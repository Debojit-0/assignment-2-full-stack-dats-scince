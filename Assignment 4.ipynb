{
 "cells": [
  {
   "cell_type": "code",
   "execution_count": 2,
   "id": "d051903a",
   "metadata": {},
   "outputs": [
    {
     "data": {
      "text/plain": [
       "'[] is empty list'"
      ]
     },
     "execution_count": 2,
     "metadata": {},
     "output_type": "execute_result"
    }
   ],
   "source": [
    "#1\n",
    "\"\"\"[] is empty list\"\"\""
   ]
  },
  {
   "cell_type": "code",
   "execution_count": 7,
   "id": "3575d4d4",
   "metadata": {},
   "outputs": [
    {
     "name": "stdout",
     "output_type": "stream",
     "text": [
      "[2, 4, 'hello', 6, 8, 10]\n"
     ]
    }
   ],
   "source": [
    "#2\n",
    "spam=[2,4,6,8,10]\n",
    "spam.insert(2,\"hello\")\n",
    "print(spam)"
   ]
  },
  {
   "cell_type": "code",
   "execution_count": 19,
   "id": "8afc0212",
   "metadata": {},
   "outputs": [
    {
     "data": {
      "text/plain": [
       "\"(spam[int(int('3'*2)/11)]) = d\""
      ]
     },
     "execution_count": 19,
     "metadata": {},
     "output_type": "execute_result"
    }
   ],
   "source": [
    "#3\n",
    "spam=['a','b','c','d']\n",
    "\"\"\"(spam[int(int('3'*2)/11)]) = d\"\"\""
   ]
  },
  {
   "cell_type": "code",
   "execution_count": 22,
   "id": "8178918e",
   "metadata": {},
   "outputs": [
    {
     "data": {
      "text/plain": [
       "'spam[-1]) is d'"
      ]
     },
     "execution_count": 22,
     "metadata": {},
     "output_type": "execute_result"
    }
   ],
   "source": [
    "#4\n",
    "\"\"\"spam[-1]) is d\"\"\""
   ]
  },
  {
   "cell_type": "code",
   "execution_count": 23,
   "id": "432ac9fb",
   "metadata": {},
   "outputs": [
    {
     "data": {
      "text/plain": [
       "\"spam[:2]= ['a','b']\""
      ]
     },
     "execution_count": 23,
     "metadata": {},
     "output_type": "execute_result"
    }
   ],
   "source": [
    "#5\n",
    "\"\"\"spam[:2]= ['a','b']\"\"\""
   ]
  },
  {
   "cell_type": "code",
   "execution_count": 24,
   "id": "1d9b04c7",
   "metadata": {},
   "outputs": [],
   "source": [
    "#6\n",
    "bacon=[3.14,'cat', '11','cat',True]\n",
    "\"\"\"bacon.index('cat') is 1\"\"\""
   ]
  },
  {
   "cell_type": "code",
   "execution_count": 25,
   "id": "19669f8e",
   "metadata": {},
   "outputs": [],
   "source": [
    "#7\n",
    "bacon=[3.14,'cat', '11','cat',True,99]"
   ]
  },
  {
   "cell_type": "code",
   "execution_count": 28,
   "id": "277214cb",
   "metadata": {},
   "outputs": [
    {
     "data": {
      "text/plain": [
       "\"bacon.remove will remove both the 'cat' from the list \\nbacon=[3.14, '11', True, 99]\""
      ]
     },
     "execution_count": 28,
     "metadata": {},
     "output_type": "execute_result"
    }
   ],
   "source": [
    "#8\n",
    "\"\"\"bacon.remove will remove both the 'cat' from the list \n",
    "bacon=[3.14, '11', True, 99]\"\"\""
   ]
  },
  {
   "cell_type": "code",
   "execution_count": 31,
   "id": "6ea8cc73",
   "metadata": {},
   "outputs": [
    {
     "data": {
      "text/plain": [
       "'list concatenation is +\\n    list replicator is *'"
      ]
     },
     "execution_count": 31,
     "metadata": {},
     "output_type": "execute_result"
    }
   ],
   "source": [
    "#9\n",
    "\"\"\"list concatenation is +\n",
    "    list replicator is *\"\"\""
   ]
  },
  {
   "cell_type": "code",
   "execution_count": 32,
   "id": "53174080",
   "metadata": {},
   "outputs": [
    {
     "data": {
      "text/plain": [
       "'Append adds a element at the end\\n    insert adds a element at a particular position in a list'"
      ]
     },
     "execution_count": 32,
     "metadata": {},
     "output_type": "execute_result"
    }
   ],
   "source": [
    "#10\n",
    "\"\"\"Append adds a element at the end\n",
    "    insert adds a element at a particular position in a list\"\"\""
   ]
  },
  {
   "cell_type": "code",
   "execution_count": 33,
   "id": "8f037b98",
   "metadata": {},
   "outputs": [
    {
     "data": {
      "text/plain": [
       "'1. remove\\n    2. pop'"
      ]
     },
     "execution_count": 33,
     "metadata": {},
     "output_type": "execute_result"
    }
   ],
   "source": [
    "#11\n",
    "\"\"\"1. remove\n",
    "    2. pop\"\"\""
   ]
  },
  {
   "cell_type": "code",
   "execution_count": 34,
   "id": "e473e289",
   "metadata": {},
   "outputs": [
    {
     "data": {
      "text/plain": [
       "'both are sequences'"
      ]
     },
     "execution_count": 34,
     "metadata": {},
     "output_type": "execute_result"
    }
   ],
   "source": [
    "#12\n",
    "\"\"\"both are sequences\"\"\""
   ]
  },
  {
   "cell_type": "code",
   "execution_count": 40,
   "id": "5ff00a03",
   "metadata": {},
   "outputs": [
    {
     "data": {
      "text/plain": [
       "'tuples are immutable \\n    lists are mutable'"
      ]
     },
     "execution_count": 40,
     "metadata": {},
     "output_type": "execute_result"
    }
   ],
   "source": [
    "#13\n",
    "\"\"\"tuples are immutable \n",
    "    lists are mutable\"\"\""
   ]
  },
  {
   "cell_type": "code",
   "execution_count": 41,
   "id": "aec79570",
   "metadata": {},
   "outputs": [
    {
     "data": {
      "text/plain": [
       "'a=(42)'"
      ]
     },
     "execution_count": 41,
     "metadata": {},
     "output_type": "execute_result"
    }
   ],
   "source": [
    "#14\n",
    "\"\"\"a=(42)\"\"\""
   ]
  },
  {
   "cell_type": "code",
   "execution_count": 45,
   "id": "a393f1f5",
   "metadata": {},
   "outputs": [
    {
     "name": "stdout",
     "output_type": "stream",
     "text": [
      "<class 'tuple'>\n"
     ]
    }
   ],
   "source": [
    "#15\n",
    "a=[10,20,30]\n",
    "b=tuple(a)\n",
    "print(type(b))"
   ]
  },
  {
   "cell_type": "code",
   "execution_count": 46,
   "id": "aa709d06",
   "metadata": {},
   "outputs": [
    {
     "name": "stdout",
     "output_type": "stream",
     "text": [
      "<class 'list'>\n"
     ]
    }
   ],
   "source": [
    "#15\n",
    "c=list(b)\n",
    "print(type(c))"
   ]
  },
  {
   "cell_type": "code",
   "execution_count": 47,
   "id": "c8a45b79",
   "metadata": {},
   "outputs": [
    {
     "data": {
      "text/plain": [
       "'List can contain Integer, float, string, list, tupples, etc'"
      ]
     },
     "execution_count": 47,
     "metadata": {},
     "output_type": "execute_result"
    }
   ],
   "source": [
    "#16\n",
    "\"\"\"List can contain Integer, float, string, list, tupples, etc\"\"\""
   ]
  },
  {
   "cell_type": "code",
   "execution_count": 48,
   "id": "559105a1",
   "metadata": {},
   "outputs": [
    {
     "data": {
      "text/plain": [
       "'copy.copy() will assign to same memory location, change in one list will reflect in other as well\\n    In deep.copy() will have two different memory location, change in one list will NOT reflect in other list'"
      ]
     },
     "execution_count": 48,
     "metadata": {},
     "output_type": "execute_result"
    }
   ],
   "source": [
    "#17\n",
    "\"\"\"copy.copy() will assign to same memory location, change in one list will reflect in other as well\n",
    "    In deep.copy() will have two different memory location, change in one list will NOT reflect in other list\"\"\" "
   ]
  },
  {
   "cell_type": "code",
   "execution_count": null,
   "id": "862b369f",
   "metadata": {},
   "outputs": [],
   "source": []
  }
 ],
 "metadata": {
  "kernelspec": {
   "display_name": "Python 3 (ipykernel)",
   "language": "python",
   "name": "python3"
  },
  "language_info": {
   "codemirror_mode": {
    "name": "ipython",
    "version": 3
   },
   "file_extension": ".py",
   "mimetype": "text/x-python",
   "name": "python",
   "nbconvert_exporter": "python",
   "pygments_lexer": "ipython3",
   "version": "3.9.7"
  }
 },
 "nbformat": 4,
 "nbformat_minor": 5
}
