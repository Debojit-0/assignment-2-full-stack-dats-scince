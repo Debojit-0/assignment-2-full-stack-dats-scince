{
 "cells": [
  {
   "cell_type": "code",
   "execution_count": 1,
   "id": "46f677d3",
   "metadata": {},
   "outputs": [
    {
     "data": {
      "text/plain": [
       "'Having function reduces the effort of writing same set of codes agaian and again'"
      ]
     },
     "execution_count": 1,
     "metadata": {},
     "output_type": "execute_result"
    }
   ],
   "source": [
    "#1\n",
    "\"\"\"Having function reduces the effort of writing same set of codes agaian and again\"\"\""
   ]
  },
  {
   "cell_type": "code",
   "execution_count": 2,
   "id": "144e805f",
   "metadata": {},
   "outputs": [
    {
     "data": {
      "text/plain": [
       "'When the function is called'"
      ]
     },
     "execution_count": 2,
     "metadata": {},
     "output_type": "execute_result"
    }
   ],
   "source": [
    "#2\n",
    "\"\"\"When the function is called\"\"\""
   ]
  },
  {
   "cell_type": "code",
   "execution_count": 3,
   "id": "df8aa31f",
   "metadata": {},
   "outputs": [
    {
     "data": {
      "text/plain": [
       "'def'"
      ]
     },
     "execution_count": 3,
     "metadata": {},
     "output_type": "execute_result"
    }
   ],
   "source": [
    "#3\n",
    "\"\"\"def\"\"\""
   ]
  },
  {
   "cell_type": "code",
   "execution_count": 6,
   "id": "985f7031",
   "metadata": {},
   "outputs": [
    {
     "data": {
      "text/plain": [
       "'function will have set of statements to perform an operation\\nfunction call will used to use the defined function at the place of need'"
      ]
     },
     "execution_count": 6,
     "metadata": {},
     "output_type": "execute_result"
    }
   ],
   "source": [
    "#4\n",
    "\"\"\"function will have set of statements to perform an operation\n",
    "function call will used to use the defined function at the place of need\"\"\""
   ]
  },
  {
   "cell_type": "code",
   "execution_count": 7,
   "id": "b83fadc3",
   "metadata": {},
   "outputs": [
    {
     "data": {
      "text/plain": [
       "'global scope is only one and local scope will be generated whenever it is called in a programme'"
      ]
     },
     "execution_count": 7,
     "metadata": {},
     "output_type": "execute_result"
    }
   ],
   "source": [
    "#5\n",
    "\"\"\"global scope is only one and local scope will be generated whenever it is called in a programme\"\"\""
   ]
  },
  {
   "cell_type": "code",
   "execution_count": 9,
   "id": "89a7c229",
   "metadata": {},
   "outputs": [
    {
     "data": {
      "text/plain": [
       "\"The values in the loacal scope's variable will be deleted once it is executed\""
      ]
     },
     "execution_count": 9,
     "metadata": {},
     "output_type": "execute_result"
    }
   ],
   "source": [
    "#6\n",
    "\"\"\"The values in the loacal scope's variable will be deleted once it is executed\"\"\""
   ]
  },
  {
   "cell_type": "code",
   "execution_count": 10,
   "id": "d119b06e",
   "metadata": {},
   "outputs": [
    {
     "data": {
      "text/plain": [
       "'Return value can be used as a part of expression.\\nresult of a function will be given through return statement'"
      ]
     },
     "execution_count": 10,
     "metadata": {},
     "output_type": "execute_result"
    }
   ],
   "source": [
    "#7\n",
    "\"\"\"Return value can be used as a part of expression.\n",
    "result of a function will be given through return statement\"\"\""
   ]
  },
  {
   "cell_type": "code",
   "execution_count": 11,
   "id": "0fa30c56",
   "metadata": {},
   "outputs": [
    {
     "data": {
      "text/plain": [
       "'none'"
      ]
     },
     "execution_count": 11,
     "metadata": {},
     "output_type": "execute_result"
    }
   ],
   "source": [
    "#8\n",
    "\"\"\"none\"\"\""
   ]
  },
  {
   "cell_type": "code",
   "execution_count": 14,
   "id": "802769e7",
   "metadata": {},
   "outputs": [
    {
     "data": {
      "text/plain": [
       "'a key word global has to be used to force a variable into the global variable'"
      ]
     },
     "execution_count": 14,
     "metadata": {},
     "output_type": "execute_result"
    }
   ],
   "source": [
    "#9\n",
    "\"\"\"a key word global has to be used to force a variable into the global variable\"\"\""
   ]
  },
  {
   "cell_type": "code",
   "execution_count": 13,
   "id": "bc472991",
   "metadata": {},
   "outputs": [
    {
     "data": {
      "text/plain": [
       "'none type'"
      ]
     },
     "execution_count": 13,
     "metadata": {},
     "output_type": "execute_result"
    }
   ],
   "source": [
    "#10\n",
    "\"\"\"none type\"\"\""
   ]
  },
  {
   "cell_type": "code",
   "execution_count": 15,
   "id": "a64c10d6",
   "metadata": {},
   "outputs": [
    {
     "data": {
      "text/plain": [
       "\"if 'areallyourpetnamederic' exsists as a fucntion or a class it will be imported or else an error will be showed\""
      ]
     },
     "execution_count": 15,
     "metadata": {},
     "output_type": "execute_result"
    }
   ],
   "source": [
    "#11\n",
    "\"\"\"if 'areallyourpetnamederic' exsists as a fucntion or a class it will be imported or else an error will be showed\"\"\""
   ]
  },
  {
   "cell_type": "code",
   "execution_count": 16,
   "id": "d01ca430",
   "metadata": {},
   "outputs": [
    {
     "data": {
      "text/plain": [
       "'spam.bacon()'"
      ]
     },
     "execution_count": 16,
     "metadata": {},
     "output_type": "execute_result"
    }
   ],
   "source": [
    "#12\n",
    "\"\"\"spam.bacon()\"\"\""
   ]
  },
  {
   "cell_type": "code",
   "execution_count": 17,
   "id": "8b0db9c0",
   "metadata": {},
   "outputs": [
    {
     "data": {
      "text/plain": [
       "'pass or try and exception'"
      ]
     },
     "execution_count": 17,
     "metadata": {},
     "output_type": "execute_result"
    }
   ],
   "source": [
    "#13\n",
    "\"\"\"pass or try and exception\"\"\""
   ]
  },
  {
   "cell_type": "code",
   "execution_count": 18,
   "id": "5b92f36a",
   "metadata": {},
   "outputs": [
    {
     "data": {
      "text/plain": [
       "'While executing try part of code if an error is encountered the flow of the execution will be passed on to exception block'"
      ]
     },
     "execution_count": 18,
     "metadata": {},
     "output_type": "execute_result"
    }
   ],
   "source": [
    "#14\n",
    "\"\"\"While executing try part of code if an error is encountered the flow of the execution will be passed on to exception block\"\"\""
   ]
  },
  {
   "cell_type": "code",
   "execution_count": null,
   "id": "2c49f73c",
   "metadata": {},
   "outputs": [],
   "source": []
  }
 ],
 "metadata": {
  "kernelspec": {
   "display_name": "Python 3 (ipykernel)",
   "language": "python",
   "name": "python3"
  },
  "language_info": {
   "codemirror_mode": {
    "name": "ipython",
    "version": 3
   },
   "file_extension": ".py",
   "mimetype": "text/x-python",
   "name": "python",
   "nbconvert_exporter": "python",
   "pygments_lexer": "ipython3",
   "version": "3.9.7"
  }
 },
 "nbformat": 4,
 "nbformat_minor": 5
}
