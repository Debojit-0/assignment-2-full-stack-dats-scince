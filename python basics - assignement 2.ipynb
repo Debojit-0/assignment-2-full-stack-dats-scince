{
 "cells": [
  {
   "cell_type": "code",
   "execution_count": 1,
   "id": "7eec068d",
   "metadata": {},
   "outputs": [],
   "source": [
    "#1 - true and false \n",
    "# == ,>=,<=,!="
   ]
  },
  {
   "cell_type": "code",
   "execution_count": 2,
   "id": "911781f6",
   "metadata": {},
   "outputs": [],
   "source": [
    "#2- AND ,OR ,NOT"
   ]
  },
  {
   "cell_type": "code",
   "execution_count": 4,
   "id": "ceb2e677",
   "metadata": {},
   "outputs": [],
   "source": [
    "#3 - FOR AND , OR\n",
    "\n",
    "#1 && 1 = 1\n",
    "#    1 && 0 = 0\n",
    "#   0 && 0 = 0\n",
    "#    1 | 0 = 1\n",
    "#   0 | 1 = 1\n",
    "#   1 | 1 = 1\n",
    "#  0 | 0 = 0\n",
    "\n",
    "# - FOR NOT\n",
    "\n",
    "# TRUE (1) -> NOT => FALSE(0)\n",
    "# FALSE (0)-> NOT => TRUE(1)\n",
    "# TRUE && TRUE => NOT = FALSE(0)\n",
    "# True && False => Not = TRUE(1)\n",
    "# FALSE && TRUE => NOT = TRUE(0)\n",
    "# FALSE && FALSE => NOT = TRUE(1)\n",
    "# TRUE | TRUE => NOT = FAKSE(0)\n",
    "# TRUE | FASLE => NOT = FALSE(0)\n",
    "# FALSE | FALSE => NOT = TRUE (1)\n",
    "# FALSE | TRUE => NOT = FALSE(0)\n",
    "\n",
    "\n",
    "\n",
    "\n",
    "     "
   ]
  },
  {
   "cell_type": "code",
   "execution_count": 5,
   "id": "5b511af7",
   "metadata": {},
   "outputs": [],
   "source": [
    "#4 FALSE(0)\n",
    "# FALSE(0)\n",
    "# TRUE(1)\n",
    "#FALSE(0)\n",
    "#FALSE(0)\n",
    "# TRUE(1)\n"
   ]
  },
  {
   "cell_type": "code",
   "execution_count": 6,
   "id": "ff730cf3",
   "metadata": {},
   "outputs": [],
   "source": [
    "#5 - EQUAL TO , GREATER THEN, LESS THEN , NOT EQUAL TO, LESS THEN OR EQUAL TO , GREATER THEN OR EQUAL TO"
   ]
  },
  {
   "cell_type": "code",
   "execution_count": 7,
   "id": "8ea325b2",
   "metadata": {},
   "outputs": [],
   "source": [
    "#6 -  A == B - IS EQUAL TO i.e DOUBLE EQUALS TO EQUAL TO\n",
    "# A = B - IS ASSIGNMENT i.e signgle equal to"
   ]
  },
  {
   "cell_type": "code",
   "execution_count": 8,
   "id": "6cd21c79",
   "metadata": {},
   "outputs": [],
   "source": [
    "#7 - ham\n",
    "# spam\n",
    "#spam\n",
    "\n",
    "      "
   ]
  },
  {
   "cell_type": "code",
   "execution_count": 13,
   "id": "27dbce95",
   "metadata": {},
   "outputs": [
    {
     "name": "stdout",
     "output_type": "stream",
     "text": [
      "enter a number5\n",
      "greetings\n"
     ]
    }
   ],
   "source": [
    "#8 \n",
    "\n",
    "spam = int(input(\"enter a number\"))\n",
    "if spam == 1:\n",
    "    \n",
    "    print(\"hello\")\n",
    "elif spam == 2:\n",
    "    print(\"howdy\")\n",
    "else:\n",
    "    print(\"greetings\")"
   ]
  },
  {
   "cell_type": "code",
   "execution_count": 14,
   "id": "f000d1b7",
   "metadata": {},
   "outputs": [],
   "source": [
    "#9 - ctrl + c"
   ]
  },
  {
   "cell_type": "code",
   "execution_count": 24,
   "id": "bb336ff1",
   "metadata": {},
   "outputs": [
    {
     "name": "stdout",
     "output_type": "stream",
     "text": [
      "0\n"
     ]
    }
   ],
   "source": [
    "#10 - break - terminates the entine loop instantly\n",
    "\n",
    "# continue - The continue statement is used to skip the rest of the code inside a loop for the current iteration only. \n",
    "#            Loop does not terminate but continues on with the next iteration.\n",
    "\n",
    "#eg of break\n",
    "\n",
    "i = 0\n",
    "while i< 1:\n",
    "    print(i)\n",
    "    break\n",
    "    \n",
    "\n",
    "\n",
    "\n",
    "\n",
    "    \n",
    "   \n",
    "\n"
   ]
  },
  {
   "cell_type": "code",
   "execution_count": 32,
   "id": "7ad793de",
   "metadata": {},
   "outputs": [
    {
     "name": "stdout",
     "output_type": "stream",
     "text": [
      "s\n",
      "t\n",
      "r\n",
      "n\n",
      "g\n",
      "The end\n"
     ]
    }
   ],
   "source": [
    "#10 eg of continue\n",
    "for val in \"string\":\n",
    "    if val == \"i\":\n",
    "        continue\n",
    "    print(val)\n",
    "\n",
    "print(\"The end\")\n"
   ]
  },
  {
   "cell_type": "code",
   "execution_count": 33,
   "id": "14174f50",
   "metadata": {},
   "outputs": [],
   "source": [
    "#11 range 10 - means the loop will run for 10 times i.e 0 to 9 or by default it will start from zero\n",
    "# range (0,10) - means the loop will start from zero and end at 9 eg - if i say 1 ,9 it will start from 1 insted of zero unlike mentioned above.\n",
    "# range(0,10,1) - means it will start from zero and end at 9 or the loop will run for 10 times at an interval of 1."
   ]
  },
  {
   "cell_type": "code",
   "execution_count": 35,
   "id": "c52fcd94",
   "metadata": {},
   "outputs": [
    {
     "name": "stdout",
     "output_type": "stream",
     "text": [
      "1\n",
      "2\n",
      "3\n",
      "4\n",
      "5\n",
      "6\n",
      "7\n",
      "8\n",
      "9\n",
      "10\n"
     ]
    }
   ],
   "source": [
    "#12\n",
    "for i in range (1,11):\n",
    "    print(i)"
   ]
  },
  {
   "cell_type": "code",
   "execution_count": 38,
   "id": "e272c355",
   "metadata": {},
   "outputs": [
    {
     "name": "stdout",
     "output_type": "stream",
     "text": [
      "1\n",
      "2\n",
      "3\n",
      "4\n",
      "5\n",
      "6\n",
      "7\n",
      "8\n",
      "9\n",
      "10\n"
     ]
    }
   ],
   "source": [
    "#13\n",
    "i=1\n",
    "while i <11:\n",
    "    print(i)\n",
    "    i= i +1"
   ]
  },
  {
   "cell_type": "code",
   "execution_count": null,
   "id": "e54a5320",
   "metadata": {},
   "outputs": [],
   "source": [
    "#14 by calling function with its name bacon()"
   ]
  }
 ],
 "metadata": {
  "kernelspec": {
   "display_name": "Python 3 (ipykernel)",
   "language": "python",
   "name": "python3"
  },
  "language_info": {
   "codemirror_mode": {
    "name": "ipython",
    "version": 3
   },
   "file_extension": ".py",
   "mimetype": "text/x-python",
   "name": "python",
   "nbconvert_exporter": "python",
   "pygments_lexer": "ipython3",
   "version": "3.9.7"
  }
 },
 "nbformat": 4,
 "nbformat_minor": 5
}
