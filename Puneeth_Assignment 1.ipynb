{
 "cells": [
  {
   "cell_type": "code",
   "execution_count": 1,
   "id": "144ee0fd",
   "metadata": {},
   "outputs": [],
   "source": [
    "#Assignment 1"
   ]
  },
  {
   "cell_type": "code",
   "execution_count": 2,
   "id": "693a0e2d",
   "metadata": {},
   "outputs": [
    {
     "data": {
      "text/plain": [
       "\"Values are 'hello', -87.8, 6\\nexpressions are +,-,*,/\""
      ]
     },
     "execution_count": 2,
     "metadata": {},
     "output_type": "execute_result"
    }
   ],
   "source": [
    "#1\n",
    "\"\"\"Values are 'hello', -87.8, 6\n",
    "expressions are +,-,*,/\"\"\""
   ]
  },
  {
   "cell_type": "code",
   "execution_count": 3,
   "id": "5d08b6b0",
   "metadata": {},
   "outputs": [
    {
     "data": {
      "text/plain": [
       "'String are something that is declared within double quotes(\"  \")\\nVariables is a place to store/hold a value'"
      ]
     },
     "execution_count": 3,
     "metadata": {},
     "output_type": "execute_result"
    }
   ],
   "source": [
    "#2\n",
    "\"\"\"String are something that is declared within single ('') or# double quotes(\"  \")\n",
    "Variables is a place to store/hold a value\"\"\"\n"
   ]
  },
  {
   "cell_type": "code",
   "execution_count": 4,
   "id": "5bd082bc",
   "metadata": {},
   "outputs": [
    {
     "data": {
      "text/plain": [
       "'Three data types are i. INT, ii. string, iii. float'"
      ]
     },
     "execution_count": 4,
     "metadata": {},
     "output_type": "execute_result"
    }
   ],
   "source": [
    "#3\n",
    "\"\"\"Three data types are i. INT, ii. string, iii. float\"\"\""
   ]
  },
  {
   "cell_type": "code",
   "execution_count": 6,
   "id": "e218b9b8",
   "metadata": {},
   "outputs": [
    {
     "data": {
      "text/plain": [
       "'Expression is combinationation of operators and operands to give a value as the result\\nEx: 2+3, where 2 and 3 are operands and + is operator'"
      ]
     },
     "execution_count": 6,
     "metadata": {},
     "output_type": "execute_result"
    }
   ],
   "source": [
    "#4\n",
    "\"\"\"Expression is combinationation of operators and operands to give a value as the result\n",
    "Ex: 2+3, where 2 and 3 are operands and + is operator\"\"\""
   ]
  },
  {
   "cell_type": "code",
   "execution_count": 7,
   "id": "ed1ba2a8",
   "metadata": {},
   "outputs": [
    {
     "data": {
      "text/plain": [
       "'Spam and 10 will be statement \\n= will be the expression\\nExpression always evaluates to a value and statement creates a variable or value'"
      ]
     },
     "execution_count": 7,
     "metadata": {},
     "output_type": "execute_result"
    }
   ],
   "source": [
    "#5\n",
    "\"\"\"Spam and 10 will be statement \n",
    "= will be the expression\n",
    "Expression always evaluates to a value and statement creates a variable or value\"\"\""
   ]
  },
  {
   "cell_type": "code",
   "execution_count": 8,
   "id": "0dba28f8",
   "metadata": {},
   "outputs": [
    {
     "data": {
      "text/plain": [
       "23"
      ]
     },
     "execution_count": 8,
     "metadata": {},
     "output_type": "execute_result"
    }
   ],
   "source": [
    "#6\n",
    "bacon=22\n",
    "bacon+1\n",
    "#value of bacon is 23"
   ]
  },
  {
   "cell_type": "code",
   "execution_count": 10,
   "id": "f28cdde8",
   "metadata": {},
   "outputs": [
    {
     "data": {
      "text/plain": [
       "\"'spam'+'spamspam' will be 'spamspamspam' and 'spam'*3 will be 'spamspamspam'\""
      ]
     },
     "execution_count": 10,
     "metadata": {},
     "output_type": "execute_result"
    }
   ],
   "source": [
    "#7\n",
    "\"\"\"'spam'+'spamspam' will be 'spamspamspam' and 'spam'*3 will be 'spamspamspam'\"\"\""
   ]
  },
  {
   "cell_type": "code",
   "execution_count": 11,
   "id": "25e06894",
   "metadata": {},
   "outputs": [
    {
     "data": {
      "text/plain": [
       "'100 is invalid as variable cant be a number'"
      ]
     },
     "execution_count": 11,
     "metadata": {},
     "output_type": "execute_result"
    }
   ],
   "source": [
    "#8\n",
    "\"\"\"100 is invalid as variable cant be a number\"\"\""
   ]
  },
  {
   "cell_type": "code",
   "execution_count": 12,
   "id": "07cc477a",
   "metadata": {},
   "outputs": [
    {
     "data": {
      "text/plain": [
       "'int(), str(), float()'"
      ]
     },
     "execution_count": 12,
     "metadata": {},
     "output_type": "execute_result"
    }
   ],
   "source": [
    "#9\n",
    "\"\"\"int(), str(), float()\"\"\""
   ]
  },
  {
   "cell_type": "code",
   "execution_count": 13,
   "id": "ce382fd8",
   "metadata": {},
   "outputs": [
    {
     "data": {
      "text/plain": [
       "\"Two different data types cannot be added. In the given case '99' is integer and remaining is string\""
      ]
     },
     "execution_count": 13,
     "metadata": {},
     "output_type": "execute_result"
    }
   ],
   "source": [
    "#10\n",
    "\"\"\"Two different data types cannot be added. In the given case '99' is integer and remaining is string\"\"\""
   ]
  }
 ],
 "metadata": {
  "kernelspec": {
   "display_name": "Python 3 (ipykernel)",
   "language": "python",
   "name": "python3"
  },
  "language_info": {
   "codemirror_mode": {
    "name": "ipython",
    "version": 3
   },
   "file_extension": ".py",
   "mimetype": "text/x-python",
   "name": "python",
   "nbconvert_exporter": "python",
   "pygments_lexer": "ipython3",
   "version": "3.9.7"
  }
 },
 "nbformat": 4,
 "nbformat_minor": 5
}
